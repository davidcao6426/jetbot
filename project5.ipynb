{
  "nbformat": 4,
  "nbformat_minor": 0,
  "metadata": {
    "colab": {
      "name": "project5",
      "provenance": [],
      "collapsed_sections": [],
      "authorship_tag": "ABX9TyMb8+9fNyiRJ9cnM6OosXJ/",
      "include_colab_link": true
    },
    "kernelspec": {
      "name": "python3",
      "display_name": "Python 3"
    },
    "language_info": {
      "name": "python"
    }
  },
  "cells": [
    {
      "cell_type": "markdown",
      "metadata": {
        "id": "view-in-github",
        "colab_type": "text"
      },
      "source": [
        "<a href=\"https://colab.research.google.com/github/davidcao6426/jetbot/blob/main/project5.ipynb\" target=\"_parent\"><img src=\"https://colab.research.google.com/assets/colab-badge.svg\" alt=\"Open In Colab\"/></a>"
      ]
    },
    {
      "cell_type": "code",
      "metadata": {
        "colab": {
          "base_uri": "https://localhost:8080/"
        },
        "id": "qPWCQ0WhWWeU",
        "outputId": "61c41efd-5a95-4d63-a9c9-9319abf043f0"
      },
      "source": [
        "from google.colab import drive\n",
        "drive.mount(\"/content/drive\")"
      ],
      "execution_count": 667,
      "outputs": [
        {
          "output_type": "stream",
          "name": "stdout",
          "text": [
            "Drive already mounted at /content/drive; to attempt to forcibly remount, call drive.mount(\"/content/drive\", force_remount=True).\n"
          ]
        }
      ]
    },
    {
      "cell_type": "code",
      "metadata": {
        "id": "syV_d2m1WbbW"
      },
      "source": [
        "import numpy as np\n",
        "import cv2\n",
        "from matplotlib import pyplot as plt\n",
        "import argparse\n",
        "from google.colab.patches import cv2_imshow\n",
        "\n",
        "path = \"/content/drive/MyDrive/master/一上/嵌入式智慧影像分析與實境界面/作業/hw5/picture/\""
      ],
      "execution_count": 668,
      "outputs": []
    },
    {
      "cell_type": "code",
      "metadata": {
        "colab": {
          "base_uri": "https://localhost:8080/",
          "height": 241
        },
        "id": "UglN7Gh9Z6Tc",
        "outputId": "991cee26-9866-4d38-83c3-619fc3e8af87"
      },
      "source": [
        "filename = path+\"go_straight.jpg\"     #與程式碼相同位置的檔案\n",
        "filename2 = path+\"turn_right.jpg\"\n",
        "filename3 = path+\"turn_right_now.jpg\"\n",
        "filename4 = path+\"test.jpg\"\n",
        "filename5 = path+\"test2.jpg\"\n",
        "filename6 = path+\"test3.jpg\"\n",
        "filename7 = path+\"test4.jpg\"\n",
        "filename8 = path+\"test5.jpg\"\n",
        "filename9 = path+\"test6.jpg\"\n",
        "image = cv2.imread(filename9)      #讀取照片\n",
        "cv2_imshow(image)  #顯示照片"
      ],
      "execution_count": 669,
      "outputs": [
        {
          "output_type": "display_data",
          "data": {
            "image/png": "[encoded data removed]",
            "text/plain": [
              "<PIL.Image.Image image mode=RGB size=224x224 at 0x7F6D3D7A3E90>"
            ]
          },
          "metadata": {}
        }
      ]
    },
    {
      "cell_type": "markdown",
      "metadata": {
        "id": "dF6s5MCiBztQ"
      },
      "source": [
        "遮罩"
      ]
    },
    {
      "cell_type": "code",
      "metadata": {
        "id": "Q1KbJSNR-q3P"
      },
      "source": [
        "def doMask(pic):\n",
        "  # 建立矩形區域，填充白色255\n",
        "  rectangle = np.zeros(pic.shape[0:2], dtype=\"uint8\")\n",
        "  cv2.rectangle(rectangle, (0, 224), (224, 56), 255, -1) # 修改這裡\n",
        "\n",
        "  # 使用mask\n",
        "  mask = rectangle\n",
        "\n",
        "  # Apply out mask -- notice how only the person in the image is cropped out\n",
        "  masked = cv2.bitwise_and(pic, pic, mask=mask)\n",
        "  cv2_imshow(masked)\n",
        "\n",
        "  return masked\n",
        "\n",
        "# s = doMask(image)"
      ],
      "execution_count": 670,
      "outputs": []
    },
    {
      "cell_type": "markdown",
      "metadata": {
        "id": "y0GAHJHjB25f"
      },
      "source": [
        "2層高斯模糊+canny"
      ]
    },
    {
      "cell_type": "code",
      "metadata": {
        "id": "wbMmmCv2aAld"
      },
      "source": [
        "def Gaussian(pic):\n",
        "  return cv2.GaussianBlur(pic, (7, 7), 0)\n",
        "\n",
        "\n",
        "# 參考opencv -> Matplotlib\n",
        "# https://blog.gtwang.org/programming/opencv-basic-image-read-and-write-tutorial/\n",
        "\n",
        "\n",
        "def model():\n",
        "  # 使用 OpenCV 讀取圖檔\n",
        "  # img_bgr = cv2.imread(filename)\n",
        "  # masked = doMask(image)\n",
        "\n",
        "  dst = Gaussian(image)\n",
        "  dst = Gaussian(dst)\n",
        "  canny = cv2.Canny(dst, 30, 150)\n",
        "  return canny\n",
        "\n",
        "canny = model()\n"
      ],
      "execution_count": 671,
      "outputs": []
    },
    {
      "cell_type": "markdown",
      "metadata": {
        "id": "gFyipPulTE-l"
      },
      "source": [
        "型態學"
      ]
    },
    {
      "cell_type": "code",
      "metadata": {
        "id": "QQnvUNyWB9ue",
        "colab": {
          "base_uri": "https://localhost:8080/",
          "height": 363
        },
        "outputId": "e8e8912c-557e-4265-a827-1c916f6b3063"
      },
      "source": [
        "kernel = cv2.getStructuringElement(cv2.MORPH_RECT,(5, 5))\n",
        "\n",
        "# # #開運算  \n",
        "# opened = cv2.morphologyEx(canny, cv2.MORPH_OPEN, kernel) \n",
        "\n",
        "# cv2_imshow(opened)\n",
        "\n",
        "# # #閉運算  \n",
        "# closed = cv2.morphologyEx(canny, cv2.MORPH_CLOSE, kernel)  \n",
        "  \n",
        "# cv2_imshow(closed)\n",
        "  \n",
        "# #腐蝕影象  \n",
        "# eroded = cv2.erode(canny, kernel)  \n",
        "# #顯示腐蝕後的影象  \n",
        "# cv2_imshow(eroded) \n",
        "  \n",
        "# #膨脹影象  \n",
        "# dilated = cv2.dilate(canny, kernel)  \n",
        "# #顯示膨脹後的影象  \n",
        "# cv2_imshow(dilated)  \n",
        "\n",
        "# #膨脹影象 + 閉運算\n",
        "# dilated = cv2.dilate(canny, kernel) \n",
        "# dilated_closed = cv2.morphologyEx(dilated, cv2.MORPH_CLOSE, kernel) \n",
        "# #顯示膨脹後的影象  \n",
        "# cv2_imshow(dilated_closed)  \n",
        "\n",
        "# #閉運算 + 膨脹影象 \n",
        "# closed = cv2.morphologyEx(canny, cv2.MORPH_CLOSE, kernel) \n",
        "# dilated = cv2.dilate(closed, kernel) \n",
        "# #顯示膨脹後的影象  \n",
        "# cv2_imshow(dilated)\n",
        "\n",
        "# #二值化\n",
        "# ret, threshold = cv2.threshold(dst, 127, 255, cv2.THRESH_BINARY)\n",
        "# # cv2_imshow(threshold)\n",
        "# plt.imshow(threshold, cmap='Greys_r')\n",
        "# # print(threshold)\n",
        "\n",
        "# # for i in threshold:\n",
        "# #   for j in i:\n",
        "# #     if j != 0 and j != 255:\n",
        "# #       print(j)\n",
        "# #       break\n",
        "\n",
        "# # plt.imshow(canny, cmap='Greys_r')\n",
        "\n",
        "def dilated_closed():\n",
        "  canny = model()\n",
        "  dilated = cv2.dilate(canny, kernel) \n",
        "  dilated_closed = cv2.morphologyEx(dilated, cv2.MORPH_CLOSE, kernel)\n",
        "\n",
        "  # plt.imshow(canny, cmap='Greys_r')\n",
        "\n",
        "  return doMask(dilated_closed)\n",
        "\n",
        "\n",
        "dilated_closed()\n",
        "\n",
        "# def threshold(pic):\n",
        "#   #二值化\n",
        "#   ret, threshold = cv2.threshold(pic, 127, 1, cv2.THRESH_BINARY)\n",
        "#   plt.imshow(threshold, cmap='Greys_r')\n",
        "\n",
        "#   return threshold\n",
        "\n",
        "# t = threshold(dilated_closed())\n",
        "\n",
        "# print(t[0])\n",
        "# with open('output.txt', 'w') as f:\n",
        "#   for item in t:\n",
        "#     for i in item:\n",
        "#       f.write(\"%s\" % i)\n",
        "#     f.write(\"\\n\")"
      ],
      "execution_count": 672,
      "outputs": [
        {
          "output_type": "display_data",
          "data": {
            "image/png": "[encoded data removed]",
            "text/plain": [
              "<PIL.Image.Image image mode=L size=224x224 at 0x7F6D3D8FA190>"
            ]
          },
          "metadata": {}
        },
        {
          "output_type": "execute_result",
          "data": {
            "text/plain": [
              "array([[0, 0, 0, ..., 0, 0, 0],\n",
              "       [0, 0, 0, ..., 0, 0, 0],\n",
              "       [0, 0, 0, ..., 0, 0, 0],\n",
              "       ...,\n",
              "       [0, 0, 0, ..., 0, 0, 0],\n",
              "       [0, 0, 0, ..., 0, 0, 0],\n",
              "       [0, 0, 0, ..., 0, 0, 0]], dtype=uint8)"
            ]
          },
          "metadata": {},
          "execution_count": 672
        }
      ]
    },
    {
      "cell_type": "code",
      "metadata": {
        "id": "b_pJNi-J-wm2"
      },
      "source": [
        "rightY = 223\n",
        "leftY = 223\n",
        "\n",
        "def findLeft(y, pic):\n",
        "  while True:\n",
        "    for j1 in range(111,0,-1):\n",
        "      if pic[y][j1] == 255:\n",
        "        return j1,y\n",
        "\n",
        "    y -= 1\n",
        "def findRight(y, pic):\n",
        "  while True:\n",
        "    for j2 in range(113,224):\n",
        "      if pic[y][j2] == 255:\n",
        "        return j2,y\n",
        "\n",
        "    y -= 1\n",
        "\n",
        "def findPoint(y, xlist, pic):\n",
        "  for j2 in xlist:\n",
        "    if pic[y][j2] == 255 or j2 == 223 or j2 == 0:\n",
        "      return j2,y\n",
        "\n",
        "# def findTPoint(y, xlist, pic):\n",
        "#   for j2 in xlist:\n",
        "#     if j2 == 223 or j2 == 0 or y < 60:\n",
        "#       return -1,-1\n",
        "#     elif pic[y][j2] == 255:\n",
        "#       return j2,y\n",
        "    \n",
        "\n",
        "def findMidPointList(datumList, mapList, indexDatumList, indexMapList):\n",
        "  midpointList = []\n",
        "  # print(len(indexDatumList))\n",
        "  # print(len(indexMapList))\n",
        "  # print(len(mapList))\n",
        "\n",
        "  for i in range(len(indexDatumList)):\n",
        "    # midx = int((leftPoint[0] + rightPoint[0]) / 2)\n",
        "    # midy = int((leftPoint[1] + rightPoint[1]) / 2)\n",
        "    # print(indexDatumList[i])\n",
        "    # print(datumList[indexDatumList[i]][0])\n",
        "    # print(indexMapList[i])\n",
        "    # print(mapList[indexMapList[i]][0])\n",
        "    midx = int((datumList[indexDatumList[i]][0] + mapList[indexMapList[i]][0]) / 2)\n",
        "    midy = int((datumList[indexDatumList[i]][1] + mapList[indexMapList[i]][1]) / 2)\n",
        "\n",
        "    midpoint = (midx,midy)\n",
        "\n",
        "    midpointList.append(midpoint)\n",
        "  return midpointList"
      ],
      "execution_count": 673,
      "outputs": []
    },
    {
      "cell_type": "code",
      "metadata": {
        "id": "k8U53aOJFwtd"
      },
      "source": [
        "#找到左右各找到第一點不為0版+若該行找不到則該邊的Y值-1，直到找到第一點(中點以上一次中點的X座標當作下一次的基準) 失敗\n",
        "def findMidPoint():\n",
        "  midpointList = []\n",
        "  left = findLeft(223)\n",
        "  right = findRight(223)\n",
        "  print(left)\n",
        "  print(right)\n",
        "\n",
        "  cv2.line(dilated_closed, left, right, (255, 255, 255), 5)\n",
        "  plt.imshow(dilated_closed, cmap='Greys_r')\n",
        "\n",
        "  midx = (left[0] + right[0]) / 2\n",
        "  midy = (left[1] + right[1]) / 2\n",
        "\n",
        "  midpoint = (midx,midy)\n",
        "\n",
        "  midpointList.append(midpoint)"
      ],
      "execution_count": 674,
      "outputs": []
    },
    {
      "cell_type": "code",
      "metadata": {
        "id": "QV0cj7p3FXjg"
      },
      "source": [
        "# ##找到左右找到第一點不為0+若該行找不到則以邊界為255(中點以上一次中點的X座標當作下一次的基準)\n",
        "# def findMidPoint2(pic):\n",
        "#   # pic = dilated_closed()\n",
        "#   midpointList = []\n",
        "#   midX = 112\n",
        "#   for i in range(223,56,-1):\n",
        "#     #若中點太靠近邊線則中斷\n",
        "#     if midX > 213 or midX < 10:\n",
        "#       break\n",
        "\n",
        "#     leftList = range(int(midX-1),-1,-1)\n",
        "#     rightList = range(int(midX+1),224)\n",
        "#     leftPoint = findPoint(i,leftList,pic)\n",
        "#     rightPoint = findPoint(i,rightList,pic)\n",
        "\n",
        "#     midx = int((leftPoint[0] + rightPoint[0]) / 2)\n",
        "#     midy = int((leftPoint[1] + rightPoint[1]) / 2)\n",
        "\n",
        "#     midpoint = (midx,midy)\n",
        "\n",
        "#     midpointList.append(midpoint)\n",
        "\n",
        "#     #讓下一次迴圈的中點落在上一次的中點\n",
        "#     midX = midx\n",
        "\n",
        "#   return midpointList"
      ],
      "execution_count": 675,
      "outputs": []
    },
    {
      "cell_type": "code",
      "metadata": {
        "id": "SLbKTS5hn2rE"
      },
      "source": [
        "# #左右各找一條線，存放至各自的list中，若找不到(len=0)，則取出有值list中的其中10點，與左/右下的角落點，做出中點list，若兩邊皆有找到，則以等比關係找到中點list\n",
        "# def findMidPoint3(pic):\n",
        "#   midL = 112\n",
        "#   midR = 112\n",
        "#   leftStop = False\n",
        "#   rightStop = False\n",
        "#   leftPointList = []\n",
        "#   rightPointList = []\n",
        "#   indexDatumList = []\n",
        "#   indexMapList = []\n",
        "\n",
        "#   #找到left point List & right point List\n",
        "#   for i in range(223,56,-1):\n",
        "#     if not leftStop:\n",
        "#       leftList = range(int(midL-1),-1,-1)\n",
        "#       # if i == 107:\n",
        "#       #   print(leftList)\n",
        "#       leftPoint = findTPoint(i,leftList,pic)\n",
        "#       if leftPoint[0] != -1:\n",
        "#         leftPointList.append(leftPoint)\n",
        "#         midL = round((leftPoint[0] + 223) / 2)+1\n",
        "#       elif len(leftPointList) != 0:\n",
        "#         leftStop = True\n",
        "        \n",
        "\n",
        "#     if not rightStop:\n",
        "#       rightList = range(int(midR+1),224)\n",
        "#       rightPoint = findTPoint(i,rightList,pic)\n",
        "#       if rightPoint[0] != -1:\n",
        "#         rightPointList.append(rightPoint)\n",
        "#         midR = round(rightPoint[0] / 2)-1\n",
        "#       elif len(rightPoint) != 0:\n",
        "#         rightStop = True\n",
        "        \n",
        "\n",
        "#   datumList, mapList, indexDatumList, indexMapList = getDatumAndMap(rightPointList, leftPointList)\n",
        "    \n",
        "#   midPointList = findMidPointList(datumList, mapList, indexDatumList, indexMapList)\n",
        "\n",
        "#   return midPointList, datumList[0], mapList[0]"
      ],
      "execution_count": 676,
      "outputs": []
    },
    {
      "cell_type": "code",
      "metadata": {
        "id": "iEZS0xTVp-EH"
      },
      "source": [
        "def getDatumAndMap(rightPointList, leftPointList):\n",
        "  indexDatumList = []\n",
        "  indexMapList = []\n",
        "\n",
        "  datumList = rightPointList if len(rightPointList) < len(leftPointList) else leftPointList\n",
        "  mapList = leftPointList if len(rightPointList) < len(leftPointList) else rightPointList\n",
        "  if len(datumList) != 0 and len(mapList) != 0 :\n",
        "    \n",
        "    ratio = int(len(mapList) / len(datumList))\n",
        "    midPointList = []\n",
        "\n",
        "    #如果兩邊point數量皆足夠\n",
        "    if len(datumList) > 10 and len(mapList) > 10 :\n",
        "      if ratio >= 2:\n",
        "        indexDatumList = range(len(datumList))\n",
        "        indexMapList = range(0,len(mapList),ratio)      \n",
        "      else:\n",
        "        indexDatumList = range(len(datumList))\n",
        "        indexMapList = range(len(datumList))\n",
        "\n",
        "    elif len(datumList) <= 10 and len(mapList) <= 10 :\n",
        "      #理論上是不會遇到\n",
        "      print(\"error: all lower than 10\")\n",
        "      raise \"error: all lower than 10\"\n",
        "    elif len(datumList) <= 10:\n",
        "      #補齊10個點\n",
        "      indexDatumList = []\n",
        "      indexMapList = []\n",
        "      for i in range(1,11):\n",
        "        indexDatumList.append(int((len(datumList)-1) * 0.1 * i))\n",
        "        indexMapList.append(int((len(mapList)-1) * 0.1 * i))\n",
        "\n",
        "  elif len(datumList) == 0 and len(mapList) == 0:\n",
        "    #理論上是不會遇到\n",
        "    print(\"error: all equal 0\")\n",
        "    raise \"error: all equal 0\"\n",
        "  elif len(datumList) == 0:\n",
        "    if datumList == leftPointList:\n",
        "      datumList.append((223,0))\n",
        "\n",
        "      for i in range(1,11):\n",
        "        indexDatumList.append(0)\n",
        "        indexMapList.append(int((len(mapList)-1) * 0.1 * i))\n",
        "    else:\n",
        "      datumList.append((223,223))\n",
        "\n",
        "      for i in range(1,11):\n",
        "        indexDatumList.append(0)\n",
        "        indexMapList.append(int((len(mapList)-1) * 0.1 * i))\n",
        "\n",
        "  return datumList, mapList, indexDatumList, indexMapList\n",
        "      "
      ],
      "execution_count": 677,
      "outputs": []
    },
    {
      "cell_type": "code",
      "metadata": {
        "id": "ljFrWoafaUnG"
      },
      "source": [
        "def findMidPoint4(pic):\n",
        "\n",
        "  leftLine = []\n",
        "  rightLine = []\n",
        "\n",
        "  ly, lx = findLeft(223,pic)\n",
        "  ry, rx = findRight(223,pic)\n",
        "\n",
        "  # print(ly, lx)\n",
        "  # print(ry, rx)\n",
        "\n",
        "  #constraint 用來表示z=(x,y)相鄰九宮格座標的優先順序\n",
        "  #constraint_left 5 4 3   constraint_right  3 4 5\n",
        "  #         6 z 2   #          2 z 6\n",
        "  #         7 8 1   #          1 8 7\n",
        "  constraint_left = [(1,1),(0,1),(-1,1),(-1,0),(-1,-1),(0,-1),(1,-1),(1,0)]\n",
        "  constraint_right = [(1,-1),(0,-1),(-1,-1),(-1,0),(-1,1),(0,1),(1,1),(1,0)]\n",
        "\n",
        "  print(\"findMidPoint4\")\n",
        "  #為了避免抓到同一條線\n",
        "  if lx >= rx:\n",
        "    leftLine = findLine(pic, (lx, ly), leftLine, constraint_left)\n",
        "\n",
        "    print(leftLine)\n",
        "    print((rx, ry))\n",
        "    if (rx, ry) not in leftLine:\n",
        "      \n",
        "      rightLine = findLine(pic, (rx, ry), rightLine, constraint_right)\n",
        "\n",
        "    # else:\n",
        "    #   rightLine.append((223,223))\n",
        "  else:\n",
        "    rightLine = findLine(pic, (rx, ry), rightLine, constraint_right)\n",
        "\n",
        "    print(rightLine)\n",
        "    print((lx, ly))\n",
        "\n",
        "    if (lx, ly) not in rightLine:\n",
        "      leftLine = findLine(pic, (lx, ly), leftLine, constraint_left)\n",
        "    # else:\n",
        "    #   leftLine.append((0,223))\n",
        "\n",
        "  return leftLine, rightLine"
      ],
      "execution_count": 678,
      "outputs": []
    },
    {
      "cell_type": "code",
      "metadata": {
        "id": "3Y_C17dTPqES"
      },
      "source": [
        "import queue\n",
        "\n",
        "def findLine(pic, point, line, constraint):\n",
        "    #廣度優先\n",
        "\n",
        "    width = queue.Queue()\n",
        "    width.put(point)\n",
        "    line.append(point)\n",
        "\n",
        "    while not width.empty():\n",
        "\n",
        "      point = width.get()\n",
        "\n",
        "      x = point[0]\n",
        "      y = point[1]\n",
        "\n",
        "      \n",
        "      for cons in constraint:\n",
        "        if (x+cons[0]) > 223 or (x+cons[0]) < 56 or y+cons[1] < 0 or y+cons[1] > 223:\n",
        "          continue\n",
        "        # print(\"pic[{}][{}] = {}\".format(x+cons[0], y+cons[1], pic[x+cons[0]][y+cons[1]]))\n",
        "        if pic[x+cons[0]][y+cons[1]] == 255 and testNineSquare(pic, (x+cons[0], y+cons[1])) and (x+cons[0], y+cons[1]) not in line:\n",
        "          # print(\"enter\")\n",
        "\n",
        "          line.append((x+cons[0], y+cons[1]))\n",
        "          width.put((x+cons[0], y+cons[1]))\n",
        "\n",
        "    return line\n",
        "\n",
        "def testNineSquare(pic, point):\n",
        "  constraint = [(1,1),(1,0),(1,-1),(0,-1),(-1,-1),(-1,0),(-1,1),(0,1)]\n",
        "\n",
        "  count = 0\n",
        "  x = point[0]\n",
        "  y = point[1]\n",
        "  for cons in constraint:\n",
        "    if (x+cons[0]) > 223 or (x+cons[0]) < 56 or y+cons[1] < 0 or y+cons[1] > 223:\n",
        "      continue\n",
        "    if pic[x+cons[0]][y+cons[1]] == 0:\n",
        "      count += 1\n",
        "  \n",
        "  return count > 0\n"
      ],
      "execution_count": 679,
      "outputs": []
    },
    {
      "cell_type": "markdown",
      "metadata": {
        "id": "z464Jq8iFi4k"
      },
      "source": [
        "將findMidPoint畫出"
      ]
    },
    {
      "cell_type": "code",
      "metadata": {
        "id": "jN4k8R-AIBAj"
      },
      "source": [
        "# def print2():\n",
        "#   pic = dilated_closed()\n",
        "#   midpointList = findMidPoint2(pic) \n",
        "\n",
        "#   for i in range(len(midpointList)-1):\n",
        "#     cv2.line(pic, midpointList[i], midpointList[i+1], (255, 255, 255), 1)\n",
        "\n",
        "#   plt.imshow(pic, cmap='Greys_r')\n",
        "\n",
        "# print2()"
      ],
      "execution_count": 680,
      "outputs": []
    },
    {
      "cell_type": "code",
      "metadata": {
        "id": "_gYzq_mykNdH"
      },
      "source": [
        "# def print3():\n",
        "#   pic = dilated_closed()\n",
        "#   midpointList, v1, v2 = findMidPoint3(pic)\n",
        "\n",
        "#   methodThree = cv2.line(pic, v1, v2, (255, 255, 255), 1)\n",
        "#   for i in range(len(midpointList)-1):\n",
        "#     cv2.line(pic, midpointList[i], midpointList[i+1], (255, 255, 255), 1)\n",
        "\n",
        "#   plt.imshow(pic, cmap='Greys_r')\n",
        "\n",
        "# print3()"
      ],
      "execution_count": 681,
      "outputs": []
    },
    {
      "cell_type": "code",
      "metadata": {
        "id": "aanO6O9qGvvA",
        "colab": {
          "base_uri": "https://localhost:8080/",
          "height": 980
        },
        "outputId": "a3d0ea36-5f96-4714-a480-013a89047118"
      },
      "source": [
        "def print4():\n",
        "  pic = dilated_closed()\n",
        "  leftLine, rightLine = findMidPoint4(pic)\n",
        "\n",
        "  print(leftLine)\n",
        "\n",
        "  cv2_imshow(pic)\n",
        "\n",
        "  datumList, mapList, indexDatumList, indexMapList = getDatumAndMap(rightLine, leftLine)\n",
        "  midPointList = findMidPointList(datumList, mapList, indexDatumList, indexMapList)\n",
        "\n",
        "  print(datumList)\n",
        "  print(mapList)\n",
        "  print(indexDatumList)\n",
        "  print(indexMapList)\n",
        "\n",
        "\n",
        "  for i in range(len(midPointList)-1):\n",
        "    y,x = midPointList[i]\n",
        "    y2,x2 = midPointList[i+1]\n",
        "    cv2.line(pic, (x,y), (x2,y2), (255, 255, 255), 1)\n",
        "\n",
        "  slope_list = []\n",
        "  max_x = 0\n",
        "  min_x = 224\n",
        "  max_y = 0\n",
        "  min_y = 0\n",
        "  print(\"midPointList:\",midPointList)\n",
        "  for j in range(len(midPointList)):\n",
        "    y,x = midPointList[j]\n",
        "    if (x > max_x):\n",
        "      max_x = x\n",
        "      max_y = y\n",
        "    if (x < min_x):\n",
        "      min_x = x\n",
        "      min_y = y\n",
        "\n",
        "  print(\"max_x, max_y:\", max_x, max_y)\n",
        "  print(\"min_x, min_y:\", min_x, min_y)\n",
        "\n",
        "  vec_tup = (min_x - max_x, max_y - min_y)\n",
        "\n",
        "  print(\"vec_tup:\", vec_tup)\n",
        "\n",
        "  plt.imshow(pic, cmap='Greys_r')\n",
        "\n",
        "  print(midPointList)\n",
        "\n",
        "  return midPointList[len(midPointList)-1]\n",
        "\n",
        "print(print4())"
      ],
      "execution_count": 682,
      "outputs": [
        {
          "output_type": "display_data",
          "data": {
            "image/png": "[encoded data removed]",
            "text/plain": [
              "<PIL.Image.Image image mode=L size=224x224 at 0x7F6D3D99E390>"
            ]
          },
          "metadata": {}
        },
        {
          "output_type": "stream",
          "name": "stdout",
          "text": [
            "findMidPoint4\n",
            "[(223, 91), (222, 91), (221, 91), (220, 91), (219, 91), (218, 91), (218, 90), (217, 90), (217, 89), (216, 89), (216, 88), (215, 88), (215, 87), (214, 87), (214, 86), (213, 85), (214, 85), (212, 84), (213, 84), (212, 83), (211, 82), (212, 82), (210, 81), (211, 81), (210, 80), (209, 79), (210, 79), (208, 78), (209, 78), (208, 77), (207, 76), (208, 76), (207, 75), (206, 74), (207, 74), (206, 73), (205, 72), (206, 72), (205, 71), (204, 70), (205, 70), (204, 69), (204, 68), (203, 67), (204, 67), (202, 66), (203, 66), (202, 65), (201, 64), (202, 64), (201, 63), (200, 62), (201, 62), (200, 61), (199, 60), (200, 60), (198, 59), (199, 59), (198, 58), (197, 57), (198, 57), (197, 56), (196, 55), (197, 55), (196, 54), (196, 53), (195, 52), (196, 52), (194, 51), (195, 51), (194, 50), (193, 49), (194, 49), (193, 48), (192, 47), (193, 47), (192, 46), (191, 45), (192, 45), (191, 44), (190, 43), (191, 43), (190, 42), (189, 41), (190, 41), (188, 40), (189, 40), (188, 39), (187, 38), (188, 38), (186, 37), (187, 37), (185, 36), (186, 36), (185, 35), (185, 34), (185, 33), (185, 32), (185, 31), (185, 30), (185, 29), (185, 28), (185, 27), (185, 26), (186, 26), (186, 25), (186, 24), (187, 24), (187, 23), (188, 23), (189, 23), (190, 23), (191, 24), (191, 23), (192, 24), (193, 24), (194, 25), (194, 24), (195, 26), (195, 25), (196, 27), (195, 27), (197, 28), (196, 28), (198, 29), (197, 29), (198, 30), (199, 31), (198, 31), (200, 32), (199, 32), (200, 33), (201, 34), (200, 34), (201, 35), (202, 36), (201, 36), (202, 37), (203, 38), (202, 38), (203, 39), (204, 40), (203, 40), (204, 41), (205, 42), (204, 42), (205, 43), (206, 44), (205, 44), (206, 45), (207, 46), (206, 46), (207, 47), (208, 48), (207, 48), (208, 49), (209, 50), (208, 50), (210, 51), (209, 51), (210, 52), (211, 53), (210, 53), (211, 54), (212, 55), (211, 55), (212, 56), (213, 57), (212, 57), (213, 58), (213, 59), (214, 60), (213, 60), (214, 61), (215, 62), (214, 62), (216, 63), (215, 63), (216, 64), (217, 65), (216, 65), (217, 66), (218, 67), (217, 67), (218, 68), (219, 69), (218, 69), (220, 70), (219, 70), (220, 71), (221, 72), (220, 72), (222, 72), (223, 72)]\n",
            "(168, 220)\n",
            "[(223, 91), (222, 91), (221, 91), (220, 91), (219, 91), (218, 91), (218, 90), (217, 90), (217, 89), (216, 89), (216, 88), (215, 88), (215, 87), (214, 87), (214, 86), (213, 85), (214, 85), (212, 84), (213, 84), (212, 83), (211, 82), (212, 82), (210, 81), (211, 81), (210, 80), (209, 79), (210, 79), (208, 78), (209, 78), (208, 77), (207, 76), (208, 76), (207, 75), (206, 74), (207, 74), (206, 73), (205, 72), (206, 72), (205, 71), (204, 70), (205, 70), (204, 69), (204, 68), (203, 67), (204, 67), (202, 66), (203, 66), (202, 65), (201, 64), (202, 64), (201, 63), (200, 62), (201, 62), (200, 61), (199, 60), (200, 60), (198, 59), (199, 59), (198, 58), (197, 57), (198, 57), (197, 56), (196, 55), (197, 55), (196, 54), (196, 53), (195, 52), (196, 52), (194, 51), (195, 51), (194, 50), (193, 49), (194, 49), (193, 48), (192, 47), (193, 47), (192, 46), (191, 45), (192, 45), (191, 44), (190, 43), (191, 43), (190, 42), (189, 41), (190, 41), (188, 40), (189, 40), (188, 39), (187, 38), (188, 38), (186, 37), (187, 37), (185, 36), (186, 36), (185, 35), (185, 34), (185, 33), (185, 32), (185, 31), (185, 30), (185, 29), (185, 28), (185, 27), (185, 26), (186, 26), (186, 25), (186, 24), (187, 24), (187, 23), (188, 23), (189, 23), (190, 23), (191, 24), (191, 23), (192, 24), (193, 24), (194, 25), (194, 24), (195, 26), (195, 25), (196, 27), (195, 27), (197, 28), (196, 28), (198, 29), (197, 29), (198, 30), (199, 31), (198, 31), (200, 32), (199, 32), (200, 33), (201, 34), (200, 34), (201, 35), (202, 36), (201, 36), (202, 37), (203, 38), (202, 38), (203, 39), (204, 40), (203, 40), (204, 41), (205, 42), (204, 42), (205, 43), (206, 44), (205, 44), (206, 45), (207, 46), (206, 46), (207, 47), (208, 48), (207, 48), (208, 49), (209, 50), (208, 50), (210, 51), (209, 51), (210, 52), (211, 53), (210, 53), (211, 54), (212, 55), (211, 55), (212, 56), (213, 57), (212, 57), (213, 58), (213, 59), (214, 60), (213, 60), (214, 61), (215, 62), (214, 62), (216, 63), (215, 63), (216, 64), (217, 65), (216, 65), (217, 66), (218, 67), (217, 67), (218, 68), (219, 69), (218, 69), (220, 70), (219, 70), (220, 71), (221, 72), (220, 72), (222, 72), (223, 72)]\n"
          ]
        },
        {
          "output_type": "display_data",
          "data": {
            "image/png": "[encoded data removed]",
            "text/plain": [
              "<PIL.Image.Image image mode=L size=224x224 at 0x7F6D3D8FA150>"
            ]
          },
          "metadata": {}
        },
        {
          "output_type": "stream",
          "name": "stdout",
          "text": [
            "[(223, 91), (222, 91), (221, 91), (220, 91), (219, 91), (218, 91), (218, 90), (217, 90), (217, 89), (216, 89), (216, 88), (215, 88), (215, 87), (214, 87), (214, 86), (213, 85), (214, 85), (212, 84), (213, 84), (212, 83), (211, 82), (212, 82), (210, 81), (211, 81), (210, 80), (209, 79), (210, 79), (208, 78), (209, 78), (208, 77), (207, 76), (208, 76), (207, 75), (206, 74), (207, 74), (206, 73), (205, 72), (206, 72), (205, 71), (204, 70), (205, 70), (204, 69), (204, 68), (203, 67), (204, 67), (202, 66), (203, 66), (202, 65), (201, 64), (202, 64), (201, 63), (200, 62), (201, 62), (200, 61), (199, 60), (200, 60), (198, 59), (199, 59), (198, 58), (197, 57), (198, 57), (197, 56), (196, 55), (197, 55), (196, 54), (196, 53), (195, 52), (196, 52), (194, 51), (195, 51), (194, 50), (193, 49), (194, 49), (193, 48), (192, 47), (193, 47), (192, 46), (191, 45), (192, 45), (191, 44), (190, 43), (191, 43), (190, 42), (189, 41), (190, 41), (188, 40), (189, 40), (188, 39), (187, 38), (188, 38), (186, 37), (187, 37), (185, 36), (186, 36), (185, 35), (185, 34), (185, 33), (185, 32), (185, 31), (185, 30), (185, 29), (185, 28), (185, 27), (185, 26), (186, 26), (186, 25), (186, 24), (187, 24), (187, 23), (188, 23), (189, 23), (190, 23), (191, 24), (191, 23), (192, 24), (193, 24), (194, 25), (194, 24), (195, 26), (195, 25), (196, 27), (195, 27), (197, 28), (196, 28), (198, 29), (197, 29), (198, 30), (199, 31), (198, 31), (200, 32), (199, 32), (200, 33), (201, 34), (200, 34), (201, 35), (202, 36), (201, 36), (202, 37), (203, 38), (202, 38), (203, 39), (204, 40), (203, 40), (204, 41), (205, 42), (204, 42), (205, 43), (206, 44), (205, 44), (206, 45), (207, 46), (206, 46), (207, 47), (208, 48), (207, 48), (208, 49), (209, 50), (208, 50), (210, 51), (209, 51), (210, 52), (211, 53), (210, 53), (211, 54), (212, 55), (211, 55), (212, 56), (213, 57), (212, 57), (213, 58), (213, 59), (214, 60), (213, 60), (214, 61), (215, 62), (214, 62), (216, 63), (215, 63), (216, 64), (217, 65), (216, 65), (217, 66), (218, 67), (217, 67), (218, 68), (219, 69), (218, 69), (220, 70), (219, 70), (220, 71), (221, 72), (220, 72), (222, 72), (223, 72)]\n",
            "[(168, 220), (167, 219), (167, 220), (168, 221), (166, 219), (168, 222), (165, 218), (165, 219), (168, 223), (164, 217), (164, 218), (163, 216), (163, 217), (162, 216), (161, 215), (161, 216), (160, 214), (160, 215), (159, 213), (159, 214), (158, 212), (158, 213), (157, 211), (157, 212), (157, 210), (156, 210), (156, 209), (155, 209), (155, 208), (154, 208), (154, 207), (153, 207), (153, 206), (152, 206), (152, 205), (151, 205), (151, 204), (150, 204), (150, 203), (150, 202), (149, 202), (149, 201), (148, 201), (148, 200), (147, 200), (147, 199), (146, 199), (146, 198), (145, 198), (145, 197), (144, 197), (144, 196), (143, 196), (143, 195), (142, 195), (142, 194), (141, 194), (141, 193), (141, 192), (140, 192), (140, 191), (139, 191), (139, 190), (138, 190), (138, 189), (137, 189), (137, 188), (136, 188), (136, 187), (135, 187), (135, 186), (134, 186), (134, 185), (133, 185), (133, 184), (132, 184), (132, 183), (131, 183), (130, 182), (130, 183), (129, 181), (129, 182), (128, 181), (127, 180), (127, 181), (126, 179), (126, 180), (125, 178), (125, 179), (124, 178), (123, 177), (123, 178), (122, 177), (121, 176), (121, 177), (120, 175), (120, 176), (119, 174), (119, 175), (118, 173), (118, 174), (117, 172), (117, 173), (117, 171), (116, 171), (116, 170), (115, 170), (115, 169), (114, 169), (114, 168), (114, 167), (113, 167), (113, 166), (112, 166), (112, 165), (112, 164), (111, 164), (111, 163), (110, 163), (110, 162), (110, 161), (109, 161), (109, 160), (108, 160), (108, 159), (108, 158), (107, 158), (107, 157), (107, 156), (106, 156), (106, 155), (105, 155), (105, 154), (105, 153), (104, 153), (104, 152), (103, 152), (103, 151), (103, 150), (102, 150), (102, 149), (102, 148), (101, 148), (101, 147), (101, 146), (100, 146), (100, 145), (100, 144), (99, 144), (99, 143), (98, 143), (98, 142), (98, 141), (97, 141), (97, 140), (97, 139), (96, 139), (96, 138), (96, 137), (95, 137), (95, 136), (94, 136), (94, 135), (94, 134), (93, 134), (93, 133), (92, 133), (92, 132), (91, 132), (91, 131), (91, 130), (90, 130), (90, 129), (89, 129), (89, 128), (88, 128), (88, 127), (88, 126), (87, 126), (87, 125), (87, 124), (87, 123), (86, 123), (86, 122), (86, 121), (86, 120), (85, 120), (85, 119), (85, 118), (84, 118), (84, 117), (84, 116), (83, 116), (83, 115), (83, 114), (83, 113), (82, 113), (82, 112), (82, 111), (81, 111), (81, 110), (81, 109), (81, 108), (80, 108), (80, 107), (80, 106), (80, 105), (79, 105), (79, 104), (79, 103), (79, 102), (78, 102), (78, 101), (78, 100), (78, 99), (77, 99), (77, 98), (77, 97), (77, 96), (77, 95), (76, 95), (76, 94), (76, 93), (76, 92), (76, 91), (76, 90), (75, 90), (75, 89), (75, 88), (75, 87), (74, 87), (74, 86), (74, 85), (74, 84), (73, 84), (73, 83), (73, 82), (73, 81), (72, 81), (72, 80), (72, 79), (72, 78), (72, 77), (71, 77), (71, 76), (71, 75), (71, 74), (71, 73), (71, 72), (70, 72), (70, 71), (70, 70), (70, 69), (70, 68), (70, 67), (69, 67), (69, 66), (69, 65), (69, 64), (69, 63), (69, 62), (68, 62), (68, 61), (68, 60), (68, 59), (68, 58), (68, 57), (67, 57), (67, 56), (67, 55), (67, 54), (66, 54), (66, 53), (66, 52), (66, 51), (66, 50), (65, 50), (65, 49), (65, 48), (65, 47), (65, 46), (65, 45), (65, 44), (64, 44), (64, 43), (64, 42), (64, 41), (64, 40), (63, 40), (63, 39), (63, 38), (63, 37), (63, 36), (63, 35), (62, 35), (62, 34), (62, 33), (62, 32), (61, 32), (61, 31), (61, 30), (61, 29), (60, 29), (60, 28), (60, 27), (60, 26), (60, 25), (60, 24), (59, 24), (58, 24), (57, 24), (56, 24)]\n",
            "range(0, 194)\n",
            "range(0, 194)\n",
            "midPointList: [(195, 155), (194, 155), (194, 155), (194, 156), (192, 155), (193, 156), (191, 154), (191, 154), (192, 156), (190, 153), (190, 153), (189, 152), (189, 152), (188, 151), (187, 150), (187, 150), (187, 149), (186, 149), (186, 148), (185, 148), (184, 147), (185, 147), (183, 146), (184, 146), (183, 145), (182, 144), (183, 144), (181, 143), (182, 143), (181, 142), (180, 141), (180, 141), (180, 140), (179, 140), (179, 139), (178, 139), (178, 138), (178, 138), (177, 137), (177, 136), (177, 136), (176, 135), (176, 134), (175, 133), (175, 133), (174, 132), (174, 132), (174, 131), (173, 131), (173, 130), (172, 130), (172, 129), (172, 129), (171, 128), (170, 127), (171, 127), (169, 126), (170, 126), (169, 125), (168, 124), (169, 124), (168, 123), (167, 122), (167, 122), (167, 121), (166, 121), (166, 120), (166, 120), (165, 119), (165, 119), (164, 118), (163, 117), (164, 117), (163, 116), (162, 115), (162, 115), (162, 114), (161, 114), (161, 113), (160, 113), (159, 112), (160, 112), (159, 111), (158, 110), (158, 111), (157, 109), (157, 110), (156, 108), (156, 108), (156, 108), (154, 107), (155, 107), (153, 106), (153, 106), (153, 106), (152, 104), (152, 104), (152, 103), (152, 103), (151, 101), (151, 101), (151, 100), (151, 100), (151, 98), (151, 98), (151, 97), (150, 97), (151, 96), (150, 96), (151, 95), (151, 95), (151, 95), (152, 95), (151, 94), (152, 94), (152, 94), (152, 94), (152, 93), (152, 94), (152, 93), (153, 94), (152, 94), (153, 94), (152, 94), (153, 94), (152, 93), (152, 94), (153, 94), (152, 93), (153, 94), (152, 93), (152, 94), (153, 94), (152, 93), (152, 94), (153, 94), (152, 94), (152, 94), (153, 94), (152, 94), (152, 94), (153, 94), (152, 94), (152, 94), (153, 94), (152, 94), (152, 94), (153, 94), (152, 94), (152, 94), (152, 94), (152, 94), (152, 94), (152, 94), (152, 94), (152, 94), (152, 94), (152, 94), (153, 94), (152, 94), (152, 94), (152, 94), (152, 94), (152, 94), (152, 94), (152, 94), (152, 94), (152, 94), (151, 94), (152, 94), (152, 94), (152, 95), (151, 94), (151, 95), (152, 95), (151, 95), (152, 95), (151, 94), (151, 95), (152, 95), (151, 94), (152, 94), (152, 95), (151, 94), (152, 94), (152, 94), (151, 94), (152, 94), (152, 94), (152, 94), (152, 94), (152, 94), (152, 94), (153, 93)]\n",
            "max_x, max_y: 156 194\n",
            "min_x, min_y: 93 152\n",
            "vec_tup: (-63, 42)\n",
            "[(195, 155), (194, 155), (194, 155), (194, 156), (192, 155), (193, 156), (191, 154), (191, 154), (192, 156), (190, 153), (190, 153), (189, 152), (189, 152), (188, 151), (187, 150), (187, 150), (187, 149), (186, 149), (186, 148), (185, 148), (184, 147), (185, 147), (183, 146), (184, 146), (183, 145), (182, 144), (183, 144), (181, 143), (182, 143), (181, 142), (180, 141), (180, 141), (180, 140), (179, 140), (179, 139), (178, 139), (178, 138), (178, 138), (177, 137), (177, 136), (177, 136), (176, 135), (176, 134), (175, 133), (175, 133), (174, 132), (174, 132), (174, 131), (173, 131), (173, 130), (172, 130), (172, 129), (172, 129), (171, 128), (170, 127), (171, 127), (169, 126), (170, 126), (169, 125), (168, 124), (169, 124), (168, 123), (167, 122), (167, 122), (167, 121), (166, 121), (166, 120), (166, 120), (165, 119), (165, 119), (164, 118), (163, 117), (164, 117), (163, 116), (162, 115), (162, 115), (162, 114), (161, 114), (161, 113), (160, 113), (159, 112), (160, 112), (159, 111), (158, 110), (158, 111), (157, 109), (157, 110), (156, 108), (156, 108), (156, 108), (154, 107), (155, 107), (153, 106), (153, 106), (153, 106), (152, 104), (152, 104), (152, 103), (152, 103), (151, 101), (151, 101), (151, 100), (151, 100), (151, 98), (151, 98), (151, 97), (150, 97), (151, 96), (150, 96), (151, 95), (151, 95), (151, 95), (152, 95), (151, 94), (152, 94), (152, 94), (152, 94), (152, 93), (152, 94), (152, 93), (153, 94), (152, 94), (153, 94), (152, 94), (153, 94), (152, 93), (152, 94), (153, 94), (152, 93), (153, 94), (152, 93), (152, 94), (153, 94), (152, 93), (152, 94), (153, 94), (152, 94), (152, 94), (153, 94), (152, 94), (152, 94), (153, 94), (152, 94), (152, 94), (153, 94), (152, 94), (152, 94), (153, 94), (152, 94), (152, 94), (152, 94), (152, 94), (152, 94), (152, 94), (152, 94), (152, 94), (152, 94), (152, 94), (153, 94), (152, 94), (152, 94), (152, 94), (152, 94), (152, 94), (152, 94), (152, 94), (152, 94), (152, 94), (151, 94), (152, 94), (152, 94), (152, 95), (151, 94), (151, 95), (152, 95), (151, 95), (152, 95), (151, 94), (151, 95), (152, 95), (151, 94), (152, 94), (152, 95), (151, 94), (152, 94), (152, 94), (151, 94), (152, 94), (152, 94), (152, 94), (152, 94), (152, 94), (152, 94), (153, 93)]\n",
            "(153, 93)\n"
          ]
        },
        {
          "output_type": "display_data",
          "data": {
            "image/png": "[encoded data removed]",
            "text/plain": [
              "<Figure size 432x288 with 1 Axes>"
            ]
          },
          "metadata": {
            "needs_background": "light"
          }
        }
      ]
    },
    {
      "cell_type": "code",
      "metadata": {
        "id": "aosOeDazT5Sy"
      },
      "source": [
        ""
      ],
      "execution_count": 682,
      "outputs": []
    }
  ]
}